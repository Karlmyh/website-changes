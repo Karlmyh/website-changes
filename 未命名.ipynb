{
 "cells": [
  {
   "cell_type": "code",
   "execution_count": null,
   "id": "c643fd51",
   "metadata": {},
   "outputs": [],
   "source": [
    "from get_html import get_html\n",
    "from bs4 import BeautifulSoup\n",
    "import re\n",
    "response=get_html()\n",
    "\n"
   ]
  },
  {
   "cell_type": "code",
   "execution_count": null,
   "id": "b27c88be",
   "metadata": {},
   "outputs": [],
   "source": [
    "1"
   ]
  },
  {
   "cell_type": "code",
   "execution_count": null,
   "id": "2805adbc",
   "metadata": {},
   "outputs": [],
   "source": [
    "Soup = BeautifulSoup(response.text)\n",
    "keywords=Soup.find_all('strong')[:-1]"
   ]
  },
  {
   "cell_type": "code",
   "execution_count": null,
   "id": "de5225b8",
   "metadata": {},
   "outputs": [],
   "source": []
  },
  {
   "cell_type": "code",
   "execution_count": null,
   "id": "f6ab3429",
   "metadata": {},
   "outputs": [],
   "source": [
    "rmv=keywords[0]\n",
    "pub_list=[]\n",
    "for i in range(len(keywords)):\n",
    "    if \"Yang\" not in str(keywords[i]):\n",
    "        print(str(keywords[i]))\n",
    "        to_append=re.search(\"<strong>(.+?)</strong>\",str(keywords[i]))\n",
    "        pub_list.append(to_append[1])"
   ]
  },
  {
   "cell_type": "code",
   "execution_count": null,
   "id": "5d449a97",
   "metadata": {},
   "outputs": [],
   "source": []
  },
  {
   "cell_type": "code",
   "execution_count": 166,
   "id": "26c1cf9c",
   "metadata": {},
   "outputs": [],
   "source": [
    "A=list([1,2,3])\n",
    "B=list([1,2,3,4])"
   ]
  },
  {
   "cell_type": "code",
   "execution_count": 179,
   "id": "efa16f02",
   "metadata": {},
   "outputs": [
    {
     "data": {
      "text/plain": [
       "'{4}'"
      ]
     },
     "execution_count": 179,
     "metadata": {},
     "output_type": "execute_result"
    }
   ],
   "source": [
    "(set(B).difference(set(A)))==set()\n",
    "str(set(B).difference(set(A)))"
   ]
  },
  {
   "cell_type": "code",
   "execution_count": 180,
   "id": "785f28c7",
   "metadata": {},
   "outputs": [],
   "source": [
    "from email.mime.text import MIMEText\n",
    "msg = MIMEText('hello, a new pub {}'.format(str(set(B).difference(set(A)))), 'plain', 'utf-8')"
   ]
  },
  {
   "cell_type": "code",
   "execution_count": null,
   "id": "068558a9",
   "metadata": {},
   "outputs": [],
   "source": [
    "import smtplib\n",
    "\n",
    "from_addr = \"myh-fx@163.com\"\n",
    "password = input('Password: ')\n",
    "# 输入收件人地址:\n",
    "to_addr = input('To: ')\n",
    "# 输入SMTP服务器地址:\n",
    "smtp_server = input('10.224.0.18')\n",
    "\n",
    "\n",
    "server = smtplib.SMTP(smtp_server, 25) # SMTP协议默认端口是25\n",
    "server.set_debuglevel(1)\n",
    "server.login(from_addr, password)\n",
    "server.sendmail(from_addr, [to_addr], msg.as_string())\n",
    "server.quit()"
   ]
  },
  {
   "cell_type": "code",
   "execution_count": null,
   "id": "379f1cdc",
   "metadata": {},
   "outputs": [],
   "source": []
  }
 ],
 "metadata": {
  "kernelspec": {
   "display_name": "Python 3 (ipykernel)",
   "language": "python",
   "name": "python3"
  },
  "language_info": {
   "codemirror_mode": {
    "name": "ipython",
    "version": 3
   },
   "file_extension": ".py",
   "mimetype": "text/x-python",
   "name": "python",
   "nbconvert_exporter": "python",
   "pygments_lexer": "ipython3",
   "version": "3.8.2"
  }
 },
 "nbformat": 4,
 "nbformat_minor": 5
}
